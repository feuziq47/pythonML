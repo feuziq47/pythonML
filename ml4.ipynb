{
 "cells": [
  {
   "cell_type": "code",
   "execution_count": 1,
   "metadata": {},
   "outputs": [],
   "source": [
    "#Null Data 처리 함수\n",
    "def fillna(df):\n",
    "    df['Age'].fillna(df_titanic['Age'].mean(),inplace=True)\n",
    "    df['Cabin'].fillna('N',inplace=True)\n",
    "    df['Embarked'].fillna('N',inplace=True)\n",
    "    df['Fare'].fillna(0,inplace=True)\n",
    "    return df"
   ]
  },
  {
   "cell_type": "code",
   "execution_count": 2,
   "metadata": {},
   "outputs": [],
   "source": [
    "#머신러닝 알고리즘에 불필요한 feature 제거\n",
    "def drop_features(df):\n",
    "    df.drop(['PassengerId','Name','Ticket'],axis=1,inplace=True)\n",
    "    return df"
   ]
  },
  {
   "cell_type": "code",
   "execution_count": 3,
   "metadata": {},
   "outputs": [],
   "source": [
    "#Label Encoding\n",
    "from sklearn.preprocessing import LabelEncoder\n",
    "def encode_features(df):\n",
    "    df['Cabin']=df['Cabin'].str[:1]\n",
    "    features=['Cabin','Sex','Embarked']\n",
    "    for feature in features:\n",
    "        encoder=LabelEncoder()\n",
    "        encoder.fit(df[feature])\n",
    "        df[feature]=encoder.transform(df[feature])\n",
    "    return df"
   ]
  },
  {
   "cell_type": "code",
   "execution_count": 4,
   "metadata": {},
   "outputs": [],
   "source": [
    "#whole preprocessing method\n",
    "def transform_features(df):\n",
    "    df=fillna(df)\n",
    "    df=drop_features(df)\n",
    "    df=encode_features(df)\n",
    "    return df"
   ]
  },
  {
   "cell_type": "code",
   "execution_count": 5,
   "metadata": {},
   "outputs": [],
   "source": [
    "#성능 지표 구하는 함수\n",
    "from sklearn.metrics import accuracy_score,precision_score,recall_score,confusion_matrix,f1_score\n",
    "def get_clf_eval(y_test,pred):\n",
    "    confusion=confusion_matrix(y_test,pred)\n",
    "    accuracy=accuracy_score(y_test,pred)\n",
    "    precision=precision_score(y_test,pred)\n",
    "    recall=recall_score(y_test,pred)\n",
    "    f1=f1_score(y_test,pred)\n",
    "    \n",
    "    print('Confusion Matrixs')\n",
    "    print(confusion)\n",
    "    print('Accuracy:{0:.4f},Precision{1:.4f},Recall:{2:.4f},F1_score{3:.4f}:'.format(accuracy,precision,recall,f1))"
   ]
  },
  {
   "cell_type": "code",
   "execution_count": 6,
   "metadata": {},
   "outputs": [
    {
     "name": "stdout",
     "output_type": "stream",
     "text": [
      "Confusion Matrixs\n",
      "[[108  10]\n",
      " [ 14  47]]\n",
      "Accuracy:0.8659,Precision0.8246,Recall:0.7705,F1_score0.7966:\n"
     ]
    },
    {
     "name": "stderr",
     "output_type": "stream",
     "text": [
      "c:\\users\\sun\\venv\\ml\\lib\\site-packages\\sklearn\\linear_model\\logistic.py:432: FutureWarning: Default solver will be changed to 'lbfgs' in 0.22. Specify a solver to silence this warning.\n",
      "  FutureWarning)\n"
     ]
    }
   ],
   "source": [
    "from sklearn.metrics import precision_recall_curve\n",
    "from sklearn.model_selection import train_test_split\n",
    "from sklearn.linear_model import LogisticRegression\n",
    "import numpy as np\n",
    "import pandas as pd\n",
    "\n",
    "df_titanic=pd.read_csv('train.csv')\n",
    "df_y_titanic=df_titanic['Survived']\n",
    "df_x_titanic=df_titanic.drop('Survived',axis=1)\n",
    "df_x_titanic=transform_features(df_x_titanic)\n",
    "\n",
    "x_train,x_test,y_train,y_test=train_test_split(df_x_titanic,df_y_titanic,test_size=0.2,random_state=11)\n",
    "lr_clf=LogisticRegression()\n",
    "\n",
    "lr_clf.fit(x_train,y_train)\n",
    "pred= lr_clf.predict(x_test)\n",
    "get_clf_eval(y_test,pred)\n",
    "\n"
   ]
  },
  {
   "cell_type": "code",
   "execution_count": 7,
   "metadata": {},
   "outputs": [
    {
     "name": "stdout",
     "output_type": "stream",
     "text": [
      "Shape Of Thresholds List: (147,)\n",
      "Sample Threshold Index: [  0  15  30  45  60  75  90 105 120 135]\n",
      "Sample Threshold Value: [0.12 0.13 0.15 0.17 0.26 0.38 0.49 0.63 0.76 0.9 ]\n",
      "Sample Threshold Precision: [0.379 0.424 0.455 0.519 0.618 0.676 0.797 0.93  0.964 1.   ]\n",
      "Sample Threshold Recall: [1.    0.967 0.902 0.902 0.902 0.82  0.77  0.656 0.443 0.213]\n"
     ]
    }
   ],
   "source": [
    "#p/r curve\n",
    "pred_proba_class1=lr_clf.predict_proba(x_test)[:,1]\n",
    "\n",
    "#Thresholds의 값을 변화시킨면서y_test(정답)와 pred_proba_class1(예측)에 따른 P/R값의 그래프를 구한다.\n",
    "precisions, recalls,thresholds=precision_recall_curve(y_test,pred_proba_class1)  \n",
    "print('Shape Of Thresholds List:',thresholds.shape)\n",
    "\n",
    "thr_index=np.arange(0,thresholds.shape[0],15)\n",
    "print('Sample Threshold Index:',thr_index)\n",
    "print('Sample Threshold Value:',np.round(thresholds[thr_index],2))\n",
    "\n",
    "print('Sample Threshold Precision:',np.round(precisions[thr_index],3))\n",
    "print('Sample Threshold Recall:',np.round(recalls[thr_index],3))"
   ]
  },
  {
   "cell_type": "code",
   "execution_count": 8,
   "metadata": {},
   "outputs": [],
   "source": [
    "#p/r 그래프 함수 정의\n",
    "import matplotlib.pyplot as plt\n",
    "import matplotlib.ticker as ticker\n",
    "%matplotlib inline\n",
    "\n",
    "def precision_recall_curve_plot(y_test, pred_proba_c1):\n",
    "    precisions, recalls, thresholds=precision_recall_curve(y_test,pred_proba_c1)\n",
    "    plt.figure(figsize=(8,6))\n",
    "    threshold_boundary=thresholds.shape[0]\n",
    "    plt.plot(thresholds,precisions[0:threshold_boundary],linestyle='--',label='precision')\n",
    "    plt.plot(thresholds,recalls[0:threshold_boundary],label='recall')\n",
    "    #x축의 lim 값으로 x축의 좌표를 만듦\n",
    "    start,end=plt.xlim()\n",
    "    plt.xticks(np.round(np.arange(start,end,0.1),2))\n",
    "    plt.xlabel('Threshold value')\n",
    "    plt.ylabel('Precision and Recall value')\n",
    "    plt.legend()\n",
    "    plt.grid()\n",
    "    plt.show()"
   ]
  },
  {
   "cell_type": "code",
   "execution_count": 9,
   "metadata": {},
   "outputs": [
    {
     "data": {
      "image/png": "[encoded data removed]",
      "text/plain": [
       "<Figure size 576x432 with 1 Axes>"
      ]
     },
     "metadata": {
      "needs_background": "light"
     },
     "output_type": "display_data"
    }
   ],
   "source": [
    "precision_recall_curve_plot(y_test, lr_clf.predict_proba(x_test)[:,1])"
   ]
  },
  {
   "cell_type": "code",
   "execution_count": 10,
   "metadata": {},
   "outputs": [
    {
     "name": "stdout",
     "output_type": "stream",
     "text": [
      "[[0. 0. 1.]\n",
      " [1. 0. 0.]\n",
      " [0. 0. 1.]]\n"
     ]
    }
   ],
   "source": [
    "#f1_score를 이용한 성능지표 확인, Binarizer api 이용\n",
    "from sklearn.preprocessing import Binarizer\n",
    "X=[[1,-1,2],[2,0,0],[0,1.1,1.2]]\n",
    "binarizer=Binarizer(threshold=1.1)\n",
    "print(binarizer.fit_transform(X))"
   ]
  },
  {
   "cell_type": "code",
   "execution_count": 11,
   "metadata": {},
   "outputs": [],
   "source": [
    "#Thresholds값에 따른 성능 지표 구하는 함수\n",
    "from sklearn.metrics import accuracy_score,precision_score,recall_score,confusion_matrix,f1_score\n",
    "from sklearn.preprocessing import Binarizer\n",
    "def get_eval_by_thresholds(y_test,pred_proba_c1,thresholds):\n",
    "    for custom_thresholds in thresholds:\n",
    "        binarizer=Binarizer(threshold=custom_thresholds).fit(pred_proba_c1)\n",
    "        custom_predict=binarizer.transform(pred_proba_c1)\n",
    "        print('Threshold:',custom_thresholds)\n",
    "        get_clf_eval(y_test,custom_predict)\n"
   ]
  },
  {
   "cell_type": "code",
   "execution_count": 12,
   "metadata": {},
   "outputs": [
    {
     "name": "stdout",
     "output_type": "stream",
     "text": [
      "Threshold: 0\n",
      "Confusion Matrixs\n",
      "[[  0 118]\n",
      " [  0  61]]\n",
      "Accuracy:0.3408,Precision0.3408,Recall:1.0000,F1_score0.5083:\n",
      "Threshold: 4\n",
      "Confusion Matrixs\n",
      "[[118   0]\n",
      " [ 61   0]]\n",
      "Accuracy:0.6592,Precision0.0000,Recall:0.0000,F1_score0.0000:\n",
      "Threshold: 0.45\n",
      "Confusion Matrixs\n",
      "[[105  13]\n",
      " [ 13  48]]\n",
      "Accuracy:0.8547,Precision0.7869,Recall:0.7869,F1_score0.7869:\n",
      "Threshold: 0.5\n",
      "Confusion Matrixs\n",
      "[[108  10]\n",
      " [ 14  47]]\n",
      "Accuracy:0.8659,Precision0.8246,Recall:0.7705,F1_score0.7966:\n",
      "Threshold: 0.55\n",
      "Confusion Matrixs\n",
      "[[111   7]\n",
      " [ 16  45]]\n",
      "Accuracy:0.8715,Precision0.8654,Recall:0.7377,F1_score0.7965:\n",
      "Threshold: 0.6\n",
      "Confusion Matrixs\n",
      "[[113   5]\n",
      " [ 17  44]]\n",
      "Accuracy:0.8771,Precision0.8980,Recall:0.7213,F1_score0.8000:\n"
     ]
    },
    {
     "name": "stderr",
     "output_type": "stream",
     "text": [
      "c:\\users\\sun\\venv\\ml\\lib\\site-packages\\sklearn\\metrics\\classification.py:1437: UndefinedMetricWarning: Precision is ill-defined and being set to 0.0 due to no predicted samples.\n",
      "  'precision', 'predicted', average, warn_for)\n",
      "c:\\users\\sun\\venv\\ml\\lib\\site-packages\\sklearn\\metrics\\classification.py:1437: UndefinedMetricWarning: F-score is ill-defined and being set to 0.0 due to no predicted samples.\n",
      "  'precision', 'predicted', average, warn_for)\n"
     ]
    }
   ],
   "source": [
    "thresholds=[0,4,0.45,0.50,0.55,0.60]\n",
    "pred_proba=lr_clf.predict_proba(x_test)\n",
    "get_eval_by_thresholds(y_test,pred_proba[:,1].reshape(-1,1),thresholds)"
   ]
  },
  {
   "cell_type": "code",
   "execution_count": 13,
   "metadata": {},
   "outputs": [
    {
     "name": "stdout",
     "output_type": "stream",
     "text": [
      "Shape Of Thresholds List: (48,)\n",
      "Sample Threshold Index: [ 0 15 30 45]\n",
      "Sample Threshold Value: [1.94 0.55 0.15 0.12]\n",
      "Sample Threshold FPR: [0.    0.059 0.559 0.847]\n",
      "Sample Threshold TPR: [0.    0.738 0.902 0.984]\n"
     ]
    }
   ],
   "source": [
    "#ROC_curve api를 이용한 roc curve 시각화\n",
    "from sklearn.metrics import roc_curve\n",
    "\n",
    "pred_proba_class1=lr_clf.predict_proba(x_test)[:,1]\n",
    "fprs,tprs,thresholds=roc_curve(y_test,pred_proba_class1)\n",
    "print('Shape Of Thresholds List:',thresholds.shape)\n",
    "\n",
    "thr_index=np.arange(0,thresholds.shape[0],15)\n",
    "print('Sample Threshold Index:',thr_index)\n",
    "print('Sample Threshold Value:',np.round(thresholds[thr_index],2))\n",
    "\n",
    "print('Sample Threshold FPR:',np.round(fprs[thr_index],3))\n",
    "print('Sample Threshold TPR:',np.round(tprs[thr_index],3))"
   ]
  },
  {
   "cell_type": "code",
   "execution_count": 14,
   "metadata": {},
   "outputs": [],
   "source": [
    "#roc_curve 그래프 그리는 함수\n",
    "import matplotlib.pyplot as plt\n",
    "import matplotlib.ticker as ticker\n",
    "%matplotlib inline\n",
    "\n",
    "def ROC_curve_plot(y_test, pred_proba_c1):\n",
    "    fprs,tprs,thresholds=roc_curve(y_test,pred_proba_c1)\n",
    "    plt.plot(fprs,tprs,label='ROC')\n",
    "    plt.plot([0,1],[0,1],'k--',label='Random')\n",
    "    #x축의 lim 값으로 x축의 좌표를 만듦\n",
    "    start,end=plt.xlim()\n",
    "    plt.xticks(np.round(np.arange(start,end,0.1),2))\n",
    "    plt.xlim(0,1)\n",
    "    plt.ylim(0,1)\n",
    "    plt.xlabel('FPR(1-Sensitivity)')\n",
    "    plt.ylabel('TPR(Recall)')\n",
    "    plt.legend()\n",
    "    plt.grid()\n",
    "    plt.show()"
   ]
  },
  {
   "cell_type": "code",
   "execution_count": 15,
   "metadata": {
    "scrolled": true
   },
   "outputs": [
    {
     "data": {
      "image/png": "[encoded data removed]",
      "text/plain": [
       "<Figure size 432x288 with 1 Axes>"
      ]
     },
     "metadata": {
      "needs_background": "light"
     },
     "output_type": "display_data"
    }
   ],
   "source": [
    "ROC_curve_plot(y_test,pred_proba_class1)"
   ]
  },
  {
   "cell_type": "code",
   "execution_count": 16,
   "metadata": {},
   "outputs": [
    {
     "name": "stdout",
     "output_type": "stream",
     "text": [
      "ROC AUC 값:0.8429\n"
     ]
    }
   ],
   "source": [
    "#roc_auc_score api를 이용한 AUC 구하기\n",
    "from sklearn.metrics import roc_auc_score\n",
    "\n",
    "pred=lr_clf.predict(x_test)\n",
    "roc_score=roc_auc_score(y_test,pred)\n",
    "print('ROC AUC 값:{0:.4f}'.format(roc_score))"
   ]
  },
  {
   "cell_type": "code",
   "execution_count": 17,
   "metadata": {},
   "outputs": [
    {
     "data": {
      "text/plain": [
       "DecisionTreeClassifier(class_weight=None, criterion='gini', max_depth=None,\n",
       "                       max_features=None, max_leaf_nodes=None,\n",
       "                       min_impurity_decrease=0.0, min_impurity_split=None,\n",
       "                       min_samples_leaf=1, min_samples_split=2,\n",
       "                       min_weight_fraction_leaf=0.0, presort=False,\n",
       "                       random_state=156, splitter='best')"
      ]
     },
     "execution_count": 17,
     "metadata": {},
     "output_type": "execute_result"
    }
   ],
   "source": [
    "from sklearn.datasets import load_iris\n",
    "from sklearn.tree import DecisionTreeClassifier\n",
    "from sklearn.metrics import accuracy_score\n",
    "\n",
    "dt_clf=DecisionTreeClassifier(random_state=156)\n",
    "iris=load_iris()\n",
    "x_train,x_test,y_train,y_test=train_test_split(iris.data,iris.target,test_size=0.2,random_state=11)\n",
    "\n",
    "dt_clf.fit(x_train,y_train)"
   ]
  },
  {
   "cell_type": "code",
   "execution_count": 18,
   "metadata": {},
   "outputs": [
    {
     "name": "stdout",
     "output_type": "stream",
     "text": [
      "Requirement already satisfied: graphviz in c:\\users\\sun\\venv\\ml\\lib\\site-packages (0.11.1)\n"
     ]
    }
   ],
   "source": [
    "!python -m pip install graphviz"
   ]
  },
  {
   "cell_type": "code",
   "execution_count": 19,
   "metadata": {},
   "outputs": [],
   "source": [
    "#graphviz lib를 이용한 decisionTree 모델 시각화1\n",
    "from sklearn.tree import export_graphviz\n",
    "\n",
    "export_graphviz(dt_clf,out_file=\"tree.dot\",class_names=iris.target_names,feature_names=iris.feature_names,impurity=True,filled=True)\n"
   ]
  },
  {
   "cell_type": "code",
   "execution_count": 1,
   "metadata": {},
   "outputs": [
    {
     "ename": "SyntaxError",
     "evalue": "invalid syntax (<ipython-input-1-30eb3747ae26>, line 3)",
     "output_type": "error",
     "traceback": [
      "\u001b[1;36m  File \u001b[1;32m\"<ipython-input-1-30eb3747ae26>\"\u001b[1;36m, line \u001b[1;32m3\u001b[0m\n\u001b[1;33m    with open(r'C:\\Users\\Sun\\jupyternotebook\\tree.dot','encoding='UTF-8')as f:\u001b[0m\n\u001b[1;37m                                                                    ^\u001b[0m\n\u001b[1;31mSyntaxError\u001b[0m\u001b[1;31m:\u001b[0m invalid syntax\n"
     ]
    }
   ],
   "source": [
    "#graphviz lib를 이용한 decisionTree 모델 시각화2\n",
    "import graphviz\n",
    "with open(r'C:\\Users\\Sun\\jupyternotebook\\tree.dot','encoding='UTF-8')as f:\n",
    "    dot_graph=f.read()\n",
    "    \n",
    "graphviz.Source(dot_graph)"
   ]
  },
  {
   "cell_type": "code",
   "execution_count": null,
   "metadata": {},
   "outputs": [],
   "source": []
  }
 ],
 "metadata": {
  "kernelspec": {
   "display_name": "Python 3",
   "language": "python",
   "name": "python3"
  },
  "language_info": {
   "codemirror_mode": {
    "name": "ipython",
    "version": 3
   },
   "file_extension": ".py",
   "mimetype": "text/x-python",
   "name": "python",
   "nbconvert_exporter": "python",
   "pygments_lexer": "ipython3",
   "version": "3.7.3"
  }
 },
 "nbformat": 4,
 "nbformat_minor": 2
}
