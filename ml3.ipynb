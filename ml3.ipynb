{
 "cells": [
  {
   "cell_type": "code",
   "execution_count": 3,
   "metadata": {},
   "outputs": [
    {
     "name": "stdout",
     "output_type": "stream",
     "text": [
      "Collecting seaborn\n",
      "  Using cached https://files.pythonhosted.org/packages/a8/76/220ba4420459d9c4c9c9587c6ce607bf56c25b3d3d2de62056efe482dadc/seaborn-0.9.0-py3-none-any.whl\n",
      "Requirement already satisfied: numpy>=1.9.3 in c:\\users\\sun\\venv\\ml\\lib\\site-packages (from seaborn) (1.16.4)\n",
      "Requirement already satisfied: scipy>=0.14.0 in c:\\users\\sun\\venv\\ml\\lib\\site-packages (from seaborn) (1.3.0)\n",
      "Requirement already satisfied: pandas>=0.15.2 in c:\\users\\sun\\venv\\ml\\lib\\site-packages (from seaborn) (0.24.2)\n",
      "Requirement already satisfied: matplotlib>=1.4.3 in c:\\users\\sun\\venv\\ml\\lib\\site-packages (from seaborn) (3.1.1)\n",
      "Requirement already satisfied: pytz>=2011k in c:\\users\\sun\\venv\\ml\\lib\\site-packages (from pandas>=0.15.2->seaborn) (2019.1)\n",
      "Requirement already satisfied: python-dateutil>=2.5.0 in c:\\users\\sun\\venv\\ml\\lib\\site-packages (from pandas>=0.15.2->seaborn) (2.8.0)\n",
      "Requirement already satisfied: kiwisolver>=1.0.1 in c:\\users\\sun\\venv\\ml\\lib\\site-packages (from matplotlib>=1.4.3->seaborn) (1.1.0)\n",
      "Requirement already satisfied: cycler>=0.10 in c:\\users\\sun\\venv\\ml\\lib\\site-packages (from matplotlib>=1.4.3->seaborn) (0.10.0)\n",
      "Requirement already satisfied: pyparsing!=2.0.4,!=2.1.2,!=2.1.6,>=2.0.1 in c:\\users\\sun\\venv\\ml\\lib\\site-packages (from matplotlib>=1.4.3->seaborn) (2.4.0)\n",
      "Requirement already satisfied: six>=1.5 in c:\\users\\sun\\venv\\ml\\lib\\site-packages (from python-dateutil>=2.5.0->pandas>=0.15.2->seaborn) (1.12.0)\n",
      "Requirement already satisfied: setuptools in c:\\users\\sun\\venv\\ml\\lib\\site-packages (from kiwisolver>=1.0.1->matplotlib>=1.4.3->seaborn) (41.0.1)\n",
      "Installing collected packages: seaborn\n",
      "Successfully installed seaborn-0.9.0\n"
     ]
    }
   ],
   "source": [
    "!python -m pip install seaborn"
   ]
  },
  {
   "cell_type": "code",
   "execution_count": 83,
   "metadata": {},
   "outputs": [
    {
     "name": "stdout",
     "output_type": "stream",
     "text": [
      "\n",
      " ### Train Data info ### \n",
      "\n",
      "<class 'pandas.core.frame.DataFrame'>\n",
      "RangeIndex: 891 entries, 0 to 890\n",
      "Data columns (total 12 columns):\n",
      "PassengerId    891 non-null int64\n",
      "Survived       891 non-null int64\n",
      "Pclass         891 non-null int64\n",
      "Name           891 non-null object\n",
      "Sex            891 non-null object\n",
      "Age            714 non-null float64\n",
      "SibSp          891 non-null int64\n",
      "Parch          891 non-null int64\n",
      "Ticket         891 non-null object\n",
      "Fare           891 non-null float64\n",
      "Cabin          204 non-null object\n",
      "Embarked       889 non-null object\n",
      "dtypes: float64(2), int64(5), object(5)\n",
      "memory usage: 83.6+ KB\n",
      "None\n"
     ]
    }
   ],
   "source": [
    "import numpy as np\n",
    "import pandas as pd\n",
    "import matplotlib.pyplot as plt\n",
    "import seaborn as sns\n",
    "from sklearn.preprocessing import LabelEncoder\n",
    "\n",
    "df_titanic = pd.read_csv('train.csv')\n",
    "df_titanic.head(3)\n",
    "\n",
    "print('\\n ### Train Data info ### \\n')\n",
    "print(df_titanic.info())"
   ]
  },
  {
   "cell_type": "code",
   "execution_count": 84,
   "metadata": {},
   "outputs": [
    {
     "name": "stdout",
     "output_type": "stream",
     "text": [
      "Null count of each column\n",
      "PassengerId      0\n",
      "Survived         0\n",
      "Pclass           0\n",
      "Name             0\n",
      "Sex              0\n",
      "Age            177\n",
      "SibSp            0\n",
      "Parch            0\n",
      "Ticket           0\n",
      "Fare             0\n",
      "Cabin          687\n",
      "Embarked         2\n",
      "dtype: int64\n",
      "Null count of data set : 866\n",
      "\n",
      "Null count of each column\n",
      "PassengerId    0\n",
      "Survived       0\n",
      "Pclass         0\n",
      "Name           0\n",
      "Sex            0\n",
      "Age            0\n",
      "SibSp          0\n",
      "Parch          0\n",
      "Ticket         0\n",
      "Fare           0\n",
      "Cabin          0\n",
      "Embarked       0\n",
      "dtype: int64\n",
      "Null count of data set: 0\n"
     ]
    }
   ],
   "source": [
    "print('Null count of each column')\n",
    "print(df_titanic.isnull().sum()) # 카테고리별 null값이 몇개 들어있는지 확인한다.\n",
    "print('Null count of data set :', df_titanic.isnull().sum().sum()) #null값의 총 합계를 count해준다.\n",
    "\n",
    "df_titanic['Age'].fillna(df_titanic['Age'].mean(), inplace=True)\n",
    "df_titanic['Cabin'].fillna('N', inplace=True)\n",
    "df_titanic['Embarked'].fillna('N', inplace=True)\n",
    "\n",
    "print('\\nNull count of each column')\n",
    "print(df_titanic.isnull().sum())\n",
    "print('Null count of data set:', df_titanic.isnull().sum().sum())\n",
    "\n"
   ]
  },
  {
   "cell_type": "code",
   "execution_count": 45,
   "metadata": {},
   "outputs": [
    {
     "name": "stdout",
     "output_type": "stream",
     "text": [
      "Distribution of Sex :\n",
      "male      577\n",
      "female    314\n",
      "Name: Sex, dtype: int64\n",
      "\n",
      "Distiribution of Cabin :\n",
      "N              687\n",
      "B96 B98          4\n",
      "C23 C25 C27      4\n",
      "G6               4\n",
      "E101             3\n",
      "C22 C26          3\n",
      "F2               3\n",
      "D                3\n",
      "F33              3\n",
      "B51 B53 B55      2\n",
      "B77              2\n",
      "D35              2\n",
      "B18              2\n",
      "C83              2\n",
      "F G73            2\n",
      "C125             2\n",
      "C126             2\n",
      "B22              2\n",
      "D20              2\n",
      "B28              2\n",
      "D26              2\n",
      "C92              2\n",
      "C93              2\n",
      "C52              2\n",
      "D36              2\n",
      "F4               2\n",
      "E44              2\n",
      "D17              2\n",
      "C123             2\n",
      "C2               2\n",
      "              ... \n",
      "F E69            1\n",
      "E17              1\n",
      "D9               1\n",
      "C87              1\n",
      "E38              1\n",
      "E46              1\n",
      "E63              1\n",
      "D11              1\n",
      "C110             1\n",
      "B37              1\n",
      "C82              1\n",
      "D47              1\n",
      "A14              1\n",
      "C54              1\n",
      "D45              1\n",
      "C50              1\n",
      "A36              1\n",
      "C99              1\n",
      "C30              1\n",
      "E40              1\n",
      "A31              1\n",
      "B82 B84          1\n",
      "A34              1\n",
      "C86              1\n",
      "D15              1\n",
      "B50              1\n",
      "C148             1\n",
      "E34              1\n",
      "C95              1\n",
      "A26              1\n",
      "Name: Cabin, Length: 148, dtype: int64\n",
      "\n",
      "Distribution of Embarked :\n",
      "S    644\n",
      "C    168\n",
      "Q     77\n",
      "N      2\n",
      "Name: Embarked, dtype: int64\n"
     ]
    }
   ],
   "source": [
    "print('Distribution of Sex :')\n",
    "print(df_titanic['Sex'].value_counts())\n",
    "\n",
    "print('\\nDistiribution of Cabin :')\n",
    "print(df_titanic['Cabin'].value_counts())\n",
    "\n",
    "print('\\nDistribution of Embarked :')\n",
    "print(df_titanic['Embarked'].value_counts())\n"
   ]
  },
  {
   "cell_type": "code",
   "execution_count": 46,
   "metadata": {},
   "outputs": [
    {
     "name": "stdout",
     "output_type": "stream",
     "text": [
      "0    N\n",
      "1    C\n",
      "2    N\n",
      "Name: Cabin, dtype: object\n"
     ]
    }
   ],
   "source": [
    "df_titanic['Cabin'] = df_titanic['Cabin'].str[:1] #방 등급의 첫 번째 문자값으로 변환\n",
    "print(df_titanic['Cabin'].head(3)) # 0,1,2 번째 까지만\n"
   ]
  },
  {
   "cell_type": "code",
   "execution_count": 47,
   "metadata": {},
   "outputs": [
    {
     "name": "stdout",
     "output_type": "stream",
     "text": [
      "Sex     Survived\n",
      "female  0            81\n",
      "        1           233\n",
      "male    0           468\n",
      "        1           109\n",
      "Name: Survived, dtype: int64\n",
      "AxesSubplot(0.125,0.125;0.775x0.755)\n"
     ]
    },
    {
     "data": {
      "image/png": "[encoded data removed]",
      "text/plain": [
       "<Figure size 432x288 with 1 Axes>"
      ]
     },
     "metadata": {
      "needs_background": "light"
     },
     "output_type": "display_data"
    }
   ],
   "source": [
    "print(df_titanic.groupby(['Sex', 'Survived'])['Survived'].count())\n",
    "print(sns.barplot(x='Sex', y='Survived', data=df_titanic))"
   ]
  },
  {
   "cell_type": "code",
   "execution_count": 48,
   "metadata": {},
   "outputs": [
    {
     "name": "stdout",
     "output_type": "stream",
     "text": [
      "Sex     Survived  Pclass\n",
      "female  0         1           3\n",
      "                  2           6\n",
      "                  3          72\n",
      "        1         1          91\n",
      "                  2          70\n",
      "                  3          72\n",
      "male    0         1          77\n",
      "                  2          91\n",
      "                  3         300\n",
      "        1         1          45\n",
      "                  2          17\n",
      "                  3          47\n",
      "Name: Survived, dtype: int64\n",
      "AxesSubplot(0.125,0.125;0.775x0.755)\n"
     ]
    },
    {
     "data": {
      "image/png": "[encoded data removed]",
      "text/plain": [
       "<Figure size 432x288 with 1 Axes>"
      ]
     },
     "metadata": {
      "needs_background": "light"
     },
     "output_type": "display_data"
    }
   ],
   "source": [
    "print(df_titanic.groupby(['Sex', 'Survived','Pclass'])['Survived'].count())\n",
    "print(sns.barplot(x='Pclass', y='Survived', hue='Sex', data=df_titanic)) #hue='Sex'를 통해 2차원으로 바꿀 수 있다.\n"
   ]
  },
  {
   "cell_type": "code",
   "execution_count": 49,
   "metadata": {
    "scrolled": false
   },
   "outputs": [
    {
     "name": "stdout",
     "output_type": "stream",
     "text": [
      "0          Student\n",
      "1            Adult\n",
      "2      Young adult\n",
      "3      Young adult\n",
      "4      Young adult\n",
      "5      Young adult\n",
      "6            Adult\n",
      "7             Baby\n",
      "8      Young adult\n",
      "9         Teenager\n",
      "10            Baby\n",
      "11           Adult\n",
      "12         Student\n",
      "13           Adult\n",
      "14        Teenager\n",
      "15           Adult\n",
      "16            Baby\n",
      "17     Young adult\n",
      "18     Young adult\n",
      "19     Young adult\n",
      "20     Young adult\n",
      "21     Young adult\n",
      "22        Teenager\n",
      "23     Young adult\n",
      "24           Child\n",
      "25           Adult\n",
      "26     Young adult\n",
      "27         Student\n",
      "28     Young adult\n",
      "29     Young adult\n",
      "          ...     \n",
      "861        Student\n",
      "862          Adult\n",
      "863    Young adult\n",
      "864        Student\n",
      "865          Adult\n",
      "866    Young adult\n",
      "867    Young adult\n",
      "868    Young adult\n",
      "869           Baby\n",
      "870    Young adult\n",
      "871          Adult\n",
      "872    Young adult\n",
      "873          Adult\n",
      "874    Young adult\n",
      "875       Teenager\n",
      "876        Student\n",
      "877        Student\n",
      "878    Young adult\n",
      "879          Adult\n",
      "880        Student\n",
      "881    Young adult\n",
      "882        Student\n",
      "883    Young adult\n",
      "884        Student\n",
      "885          Adult\n",
      "886    Young adult\n",
      "887        Student\n",
      "888    Young adult\n",
      "889    Young adult\n",
      "890    Young adult\n",
      "Name: Age_cat, Length: 891, dtype: object\n",
      "     PassengerId  Survived  Pclass  \\\n",
      "0              1         0       3   \n",
      "1              2         1       1   \n",
      "2              3         1       3   \n",
      "3              4         1       1   \n",
      "4              5         0       3   \n",
      "5              6         0       3   \n",
      "6              7         0       1   \n",
      "7              8         0       3   \n",
      "8              9         1       3   \n",
      "9             10         1       2   \n",
      "10            11         1       3   \n",
      "11            12         1       1   \n",
      "12            13         0       3   \n",
      "13            14         0       3   \n",
      "14            15         0       3   \n",
      "15            16         1       2   \n",
      "16            17         0       3   \n",
      "17            18         1       2   \n",
      "18            19         0       3   \n",
      "19            20         1       3   \n",
      "20            21         0       2   \n",
      "21            22         1       2   \n",
      "22            23         1       3   \n",
      "23            24         1       1   \n",
      "24            25         0       3   \n",
      "25            26         1       3   \n",
      "26            27         0       3   \n",
      "27            28         0       1   \n",
      "28            29         1       3   \n",
      "29            30         0       3   \n",
      "..           ...       ...     ...   \n",
      "861          862         0       2   \n",
      "862          863         1       1   \n",
      "863          864         0       3   \n",
      "864          865         0       2   \n",
      "865          866         1       2   \n",
      "866          867         1       2   \n",
      "867          868         0       1   \n",
      "868          869         0       3   \n",
      "869          870         1       3   \n",
      "870          871         0       3   \n",
      "871          872         1       1   \n",
      "872          873         0       1   \n",
      "873          874         0       3   \n",
      "874          875         1       2   \n",
      "875          876         1       3   \n",
      "876          877         0       3   \n",
      "877          878         0       3   \n",
      "878          879         0       3   \n",
      "879          880         1       1   \n",
      "880          881         1       2   \n",
      "881          882         0       3   \n",
      "882          883         0       3   \n",
      "883          884         0       2   \n",
      "884          885         0       3   \n",
      "885          886         0       3   \n",
      "886          887         0       2   \n",
      "887          888         1       1   \n",
      "888          889         0       3   \n",
      "889          890         1       1   \n",
      "890          891         0       3   \n",
      "\n",
      "                                                  Name     Sex        Age  \\\n",
      "0                              Braund, Mr. Owen Harris    male  22.000000   \n",
      "1    Cumings, Mrs. John Bradley (Florence Briggs Th...  female  38.000000   \n",
      "2                               Heikkinen, Miss. Laina  female  26.000000   \n",
      "3         Futrelle, Mrs. Jacques Heath (Lily May Peel)  female  35.000000   \n",
      "4                             Allen, Mr. William Henry    male  35.000000   \n",
      "5                                     Moran, Mr. James    male  29.699118   \n",
      "6                              McCarthy, Mr. Timothy J    male  54.000000   \n",
      "7                       Palsson, Master. Gosta Leonard    male   2.000000   \n",
      "8    Johnson, Mrs. Oscar W (Elisabeth Vilhelmina Berg)  female  27.000000   \n",
      "9                  Nasser, Mrs. Nicholas (Adele Achem)  female  14.000000   \n",
      "10                     Sandstrom, Miss. Marguerite Rut  female   4.000000   \n",
      "11                            Bonnell, Miss. Elizabeth  female  58.000000   \n",
      "12                      Saundercock, Mr. William Henry    male  20.000000   \n",
      "13                         Andersson, Mr. Anders Johan    male  39.000000   \n",
      "14                Vestrom, Miss. Hulda Amanda Adolfina  female  14.000000   \n",
      "15                    Hewlett, Mrs. (Mary D Kingcome)   female  55.000000   \n",
      "16                                Rice, Master. Eugene    male   2.000000   \n",
      "17                        Williams, Mr. Charles Eugene    male  29.699118   \n",
      "18   Vander Planke, Mrs. Julius (Emelia Maria Vande...  female  31.000000   \n",
      "19                             Masselmani, Mrs. Fatima  female  29.699118   \n",
      "20                                Fynney, Mr. Joseph J    male  35.000000   \n",
      "21                               Beesley, Mr. Lawrence    male  34.000000   \n",
      "22                         McGowan, Miss. Anna \"Annie\"  female  15.000000   \n",
      "23                        Sloper, Mr. William Thompson    male  28.000000   \n",
      "24                       Palsson, Miss. Torborg Danira  female   8.000000   \n",
      "25   Asplund, Mrs. Carl Oscar (Selma Augusta Emilia...  female  38.000000   \n",
      "26                             Emir, Mr. Farred Chehab    male  29.699118   \n",
      "27                      Fortune, Mr. Charles Alexander    male  19.000000   \n",
      "28                       O'Dwyer, Miss. Ellen \"Nellie\"  female  29.699118   \n",
      "29                                 Todoroff, Mr. Lalio    male  29.699118   \n",
      "..                                                 ...     ...        ...   \n",
      "861                        Giles, Mr. Frederick Edward    male  21.000000   \n",
      "862  Swift, Mrs. Frederick Joel (Margaret Welles Ba...  female  48.000000   \n",
      "863                  Sage, Miss. Dorothy Edith \"Dolly\"  female  29.699118   \n",
      "864                             Gill, Mr. John William    male  24.000000   \n",
      "865                           Bystrom, Mrs. (Karolina)  female  42.000000   \n",
      "866                       Duran y More, Miss. Asuncion  female  27.000000   \n",
      "867               Roebling, Mr. Washington Augustus II    male  31.000000   \n",
      "868                        van Melkebeke, Mr. Philemon    male  29.699118   \n",
      "869                    Johnson, Master. Harold Theodor    male   4.000000   \n",
      "870                                  Balkic, Mr. Cerin    male  26.000000   \n",
      "871   Beckwith, Mrs. Richard Leonard (Sallie Monypeny)  female  47.000000   \n",
      "872                           Carlsson, Mr. Frans Olof    male  33.000000   \n",
      "873                        Vander Cruyssen, Mr. Victor    male  47.000000   \n",
      "874              Abelson, Mrs. Samuel (Hannah Wizosky)  female  28.000000   \n",
      "875                   Najib, Miss. Adele Kiamie \"Jane\"  female  15.000000   \n",
      "876                      Gustafsson, Mr. Alfred Ossian    male  20.000000   \n",
      "877                               Petroff, Mr. Nedelio    male  19.000000   \n",
      "878                                 Laleff, Mr. Kristo    male  29.699118   \n",
      "879      Potter, Mrs. Thomas Jr (Lily Alexenia Wilson)  female  56.000000   \n",
      "880       Shelley, Mrs. William (Imanita Parrish Hall)  female  25.000000   \n",
      "881                                 Markun, Mr. Johann    male  33.000000   \n",
      "882                       Dahlberg, Miss. Gerda Ulrika  female  22.000000   \n",
      "883                      Banfield, Mr. Frederick James    male  28.000000   \n",
      "884                             Sutehall, Mr. Henry Jr    male  25.000000   \n",
      "885               Rice, Mrs. William (Margaret Norton)  female  39.000000   \n",
      "886                              Montvila, Rev. Juozas    male  27.000000   \n",
      "887                       Graham, Miss. Margaret Edith  female  19.000000   \n",
      "888           Johnston, Miss. Catherine Helen \"Carrie\"  female  29.699118   \n",
      "889                              Behr, Mr. Karl Howell    male  26.000000   \n",
      "890                                Dooley, Mr. Patrick    male  32.000000   \n",
      "\n",
      "     SibSp  Parch            Ticket      Fare Cabin Embarked      Age_cat  \n",
      "0        1      0         A/5 21171    7.2500     N        S      Student  \n",
      "1        1      0          PC 17599   71.2833     C        C        Adult  \n",
      "2        0      0  STON/O2. 3101282    7.9250     N        S  Young adult  \n",
      "3        1      0            113803   53.1000     C        S  Young adult  \n",
      "4        0      0            373450    8.0500     N        S  Young adult  \n",
      "5        0      0            330877    8.4583     N        Q  Young adult  \n",
      "6        0      0             17463   51.8625     E        S        Adult  \n",
      "7        3      1            349909   21.0750     N        S         Baby  \n",
      "8        0      2            347742   11.1333     N        S  Young adult  \n",
      "9        1      0            237736   30.0708     N        C     Teenager  \n",
      "10       1      1           PP 9549   16.7000     G        S         Baby  \n",
      "11       0      0            113783   26.5500     C        S        Adult  \n",
      "12       0      0         A/5. 2151    8.0500     N        S      Student  \n",
      "13       1      5            347082   31.2750     N        S        Adult  \n",
      "14       0      0            350406    7.8542     N        S     Teenager  \n",
      "15       0      0            248706   16.0000     N        S        Adult  \n",
      "16       4      1            382652   29.1250     N        Q         Baby  \n",
      "17       0      0            244373   13.0000     N        S  Young adult  \n",
      "18       1      0            345763   18.0000     N        S  Young adult  \n",
      "19       0      0              2649    7.2250     N        C  Young adult  \n",
      "20       0      0            239865   26.0000     N        S  Young adult  \n",
      "21       0      0            248698   13.0000     D        S  Young adult  \n",
      "22       0      0            330923    8.0292     N        Q     Teenager  \n",
      "23       0      0            113788   35.5000     A        S  Young adult  \n",
      "24       3      1            349909   21.0750     N        S        Child  \n",
      "25       1      5            347077   31.3875     N        S        Adult  \n",
      "26       0      0              2631    7.2250     N        C  Young adult  \n",
      "27       3      2             19950  263.0000     C        S      Student  \n",
      "28       0      0            330959    7.8792     N        Q  Young adult  \n",
      "29       0      0            349216    7.8958     N        S  Young adult  \n",
      "..     ...    ...               ...       ...   ...      ...          ...  \n",
      "861      1      0             28134   11.5000     N        S      Student  \n",
      "862      0      0             17466   25.9292     D        S        Adult  \n",
      "863      8      2          CA. 2343   69.5500     N        S  Young adult  \n",
      "864      0      0            233866   13.0000     N        S      Student  \n",
      "865      0      0            236852   13.0000     N        S        Adult  \n",
      "866      1      0     SC/PARIS 2149   13.8583     N        C  Young adult  \n",
      "867      0      0          PC 17590   50.4958     A        S  Young adult  \n",
      "868      0      0            345777    9.5000     N        S  Young adult  \n",
      "869      1      1            347742   11.1333     N        S         Baby  \n",
      "870      0      0            349248    7.8958     N        S  Young adult  \n",
      "871      1      1             11751   52.5542     D        S        Adult  \n",
      "872      0      0               695    5.0000     B        S  Young adult  \n",
      "873      0      0            345765    9.0000     N        S        Adult  \n",
      "874      1      0         P/PP 3381   24.0000     N        C  Young adult  \n",
      "875      0      0              2667    7.2250     N        C     Teenager  \n",
      "876      0      0              7534    9.8458     N        S      Student  \n",
      "877      0      0            349212    7.8958     N        S      Student  \n",
      "878      0      0            349217    7.8958     N        S  Young adult  \n",
      "879      0      1             11767   83.1583     C        C        Adult  \n",
      "880      0      1            230433   26.0000     N        S      Student  \n",
      "881      0      0            349257    7.8958     N        S  Young adult  \n",
      "882      0      0              7552   10.5167     N        S      Student  \n",
      "883      0      0  C.A./SOTON 34068   10.5000     N        S  Young adult  \n",
      "884      0      0   SOTON/OQ 392076    7.0500     N        S      Student  \n",
      "885      0      5            382652   29.1250     N        Q        Adult  \n",
      "886      0      0            211536   13.0000     N        S  Young adult  \n",
      "887      0      0            112053   30.0000     B        S      Student  \n",
      "888      1      2        W./C. 6607   23.4500     N        S  Young adult  \n",
      "889      0      0            111369   30.0000     C        C  Young adult  \n",
      "890      0      0            370376    7.7500     N        Q  Young adult  \n",
      "\n",
      "[891 rows x 13 columns]\n"
     ]
    }
   ],
   "source": [
    "#입력 age에 따라 구분값을 반환하는 함수 설정. DataFrame의 apply lambda식에 사용. \n",
    "def get_category(age):\n",
    "    cat = ''\n",
    "    if age <= -1:\n",
    "        cat = 'Unknown'\n",
    "    \n",
    "    elif age <= 5:\n",
    "        cat = 'Baby'\n",
    "            \n",
    "    elif age <= 12:\n",
    "        cat = 'Child'\n",
    "            \n",
    "    elif age <= 18:\n",
    "        cat = 'Teenager'\n",
    "            \n",
    "    elif age <= 25:\n",
    "        cat = 'Student'\n",
    "            \n",
    "    elif age <= 35:\n",
    "        cat = 'Young adult'\n",
    "            \n",
    "    elif age <= 60:\n",
    "        cat = 'Adult'  \n",
    "        \n",
    "    else:\n",
    "        cat = 'Elderly'\n",
    "            \n",
    "    return cat\n",
    "    \n",
    "df_titanic['Age_cat'] = df_titanic['Age'].apply(lambda x : get_category(x))\n",
    "print(df_titanic['Age_cat'])\n",
    "print(df_titanic)"
   ]
  },
  {
   "cell_type": "code",
   "execution_count": 69,
   "metadata": {},
   "outputs": [],
   "source": [
    "# lambda 식에 위에서 생성한 get_category( ) 함수를 반환값으로 지정. \n",
    "# get_category(X)는 입력값으로 'Age' 컬럼값을 받아서 해당하는 cat 반환\n",
    "df_titanic['Age_cat'] = df_titanic['Age'].apply(lambda x : get_category(x))"
   ]
  },
  {
   "cell_type": "code",
   "execution_count": 85,
   "metadata": {
    "scrolled": true
   },
   "outputs": [
    {
     "data": {
      "text/plain": [
       "<matplotlib.axes._subplots.AxesSubplot at 0x1bc3e943828>"
      ]
     },
     "execution_count": 85,
     "metadata": {},
     "output_type": "execute_result"
    },
    {
     "data": {
      "image/png": "[encoded data removed]",
      "text/plain": [
       "<Figure size 432x288 with 1 Axes>"
      ]
     },
     "metadata": {
      "needs_background": "light"
     },
     "output_type": "display_data"
    }
   ],
   "source": [
    "#sex, age와 survie의 상관관계\n",
    "sns.barplot(x='Fare',y='Survived',data=df_titanic)"
   ]
  },
  {
   "cell_type": "code",
   "execution_count": 51,
   "metadata": {},
   "outputs": [],
   "source": [
    "df_titanic.drop('Age_cat',axis=1,inplace=True)"
   ]
  },
  {
   "cell_type": "code",
   "execution_count": 77,
   "metadata": {},
   "outputs": [],
   "source": [
    "#Null Data 처리 함수\n",
    "def fillna(df):\n",
    "    df['Age'].fillna(df_titanic['Age'].mean(),inplace=True)\n",
    "    df['Cabin'].fillna('N',inplace=True)\n",
    "    df['Embarked'].fillna('N',inplace=True)\n",
    "    df['Fare'].fillna(0,inplace=True)\n",
    "    return df"
   ]
  },
  {
   "cell_type": "code",
   "execution_count": 78,
   "metadata": {},
   "outputs": [],
   "source": [
    "#머신러닝 알고리즘에 불필요한 feature 제거\n",
    "def drop_features(df):\n",
    "    df.drop(['PassengerId','Name','Ticket'],axis=1,inplace=True)\n",
    "    return df"
   ]
  },
  {
   "cell_type": "code",
   "execution_count": 79,
   "metadata": {},
   "outputs": [],
   "source": [
    "#Label Encoding\n",
    "def encode_features(df):\n",
    "    df['Cabin']=df['Cabin'].str[:1]\n",
    "    features=['Cabin','Sex','Embarked']\n",
    "    for feature in features:\n",
    "        encoder=LabelEncoder()\n",
    "        encoder.fit(df[feature])\n",
    "        df[feature]=encoder.transform(df[feature])\n",
    "    return df"
   ]
  },
  {
   "cell_type": "code",
   "execution_count": 80,
   "metadata": {},
   "outputs": [],
   "source": [
    "#whole preprocessing method\n",
    "def transform_features(df):\n",
    "    df=fillna(df)\n",
    "    df=drop_features(df)\n",
    "    df=encode_features(df)\n",
    "    return df"
   ]
  },
  {
   "cell_type": "code",
   "execution_count": 81,
   "metadata": {},
   "outputs": [
    {
     "name": "stdout",
     "output_type": "stream",
     "text": [
      "   Pclass  Sex        Age  SibSp  Parch     Fare  Cabin  Embarked\n",
      "0       3    1  22.000000      1      0   7.2500      7         3\n",
      "1       1    0  38.000000      1      0  71.2833      2         0\n",
      "2       3    0  26.000000      0      0   7.9250      7         3\n",
      "3       1    0  35.000000      1      0  53.1000      2         3\n",
      "4       3    1  35.000000      0      0   8.0500      7         3\n",
      "5       3    1  29.699118      0      0   8.4583      7         2\n",
      "6       1    1  54.000000      0      0  51.8625      4         3\n",
      "7       3    1   2.000000      3      1  21.0750      7         3\n",
      "8       3    0  27.000000      0      2  11.1333      7         3\n",
      "9       2    0  14.000000      1      0  30.0708      7         0\n"
     ]
    }
   ],
   "source": [
    "import pandas as pd\n",
    "df_titanic=pd.read_csv('train.csv')\n",
    "\n",
    "df_y_titanic=df_titanic['Survived']\n",
    "df_x_titanic=df_titanic.drop('Survived',axis=1)\n",
    "df_x_titanic=transform_features(df_x_titanic)\n",
    "print(df_x_titanic[:10])"
   ]
  },
  {
   "cell_type": "code",
   "execution_count": 90,
   "metadata": {},
   "outputs": [
    {
     "name": "stdout",
     "output_type": "stream",
     "text": [
      "train_test_split_accuracy:0.8212\n"
     ]
    }
   ],
   "source": [
    "#titanic 생존자 예측 Project\n",
    "from sklearn.model_selection import train_test_split\n",
    "from sklearn.tree import DecisionTreeClassifier\n",
    "from sklearn.metrics import accuracy_score\n",
    "from sklearn.preprocessing import LabelEncoder\n",
    "import pandas as pd\n",
    "\n",
    "df_titanic=pd.read_csv('train.csv')\n",
    "\n",
    "df_y_titanic=df_titanic['Survived']\n",
    "df_x_titanic=df_titanic.drop('Survived',axis=1)\n",
    "df_x_titanic=transform_features(df_x_titanic)\n",
    "df_x_titanic=df_x_titanic.drop('Fare',axis=1)\n",
    "\n",
    "#Age_cat추가 및 labeling\n",
    "df_x_titanic['Age_cat'] = df_x_titanic['Age'].apply(lambda x : get_category(x))\n",
    "features=['Unknown','Baby','Child','Teenager','Student','Young Adult','Adult','Elderly']\n",
    "encoder=LabelEncoder()\n",
    "encoder.fit(df_x_titanic['Age_cat'])\n",
    "df_x_titanic['Age_cat']=encoder.transform(df_x_titanic['Age_cat'])\n",
    "\n",
    "#train_test_split\n",
    "dt_clf=DecisionTreeClassifier()\n",
    "x_train,x_test,y_train,y_test=train_test_split(df_x_titanic,df_y_titanic,test_size=0.2,random_state=129)\n",
    "dt_clf.fit(x_train,y_train)\n",
    "pred=dt_clf.predict(x_test)\n",
    "print('train_test_split_accuracy:{0:.4f}'.format(accuracy_score(y_test,pred)))\n",
    "\n"
   ]
  },
  {
   "cell_type": "code",
   "execution_count": 98,
   "metadata": {},
   "outputs": [
    {
     "ename": "KeyError",
     "evalue": "\"None of [Int64Index([ 82,  84,  85,  88,  94,  95,  96,  97,  98,  99,\\n            ...\\n            881, 882, 883, 884, 885, 886, 887, 888, 889, 890],\\n           dtype='int64', length=801)] are in the [columns]\"",
     "output_type": "error",
     "traceback": [
      "\u001b[1;31m---------------------------------------------------------------------------\u001b[0m",
      "\u001b[1;31mKeyError\u001b[0m                                  Traceback (most recent call last)",
      "\u001b[1;32m<ipython-input-98-76649ab6a2d6>\u001b[0m in \u001b[0;36m<module>\u001b[1;34m\u001b[0m\n\u001b[0;32m     31\u001b[0m     \u001b[0mfold_index\u001b[0m\u001b[1;33m+=\u001b[0m\u001b[1;36m1\u001b[0m\u001b[1;33m\u001b[0m\u001b[1;33m\u001b[0m\u001b[0m\n\u001b[0;32m     32\u001b[0m \u001b[1;33m\u001b[0m\u001b[0m\n\u001b[1;32m---> 33\u001b[1;33m     \u001b[0mx_train\u001b[0m\u001b[1;33m,\u001b[0m\u001b[0mx_test\u001b[0m\u001b[1;33m=\u001b[0m\u001b[0mdf_x_titanic\u001b[0m\u001b[1;33m[\u001b[0m\u001b[0mtrain_index\u001b[0m\u001b[1;33m]\u001b[0m\u001b[1;33m,\u001b[0m\u001b[0mdf_x_titanic\u001b[0m\u001b[1;33m[\u001b[0m\u001b[0mtest_index\u001b[0m\u001b[1;33m]\u001b[0m\u001b[1;33m\u001b[0m\u001b[1;33m\u001b[0m\u001b[0m\n\u001b[0m\u001b[0;32m     34\u001b[0m     \u001b[0my_train\u001b[0m\u001b[1;33m,\u001b[0m\u001b[0my_test\u001b[0m\u001b[1;33m=\u001b[0m\u001b[0mdf_y_titanic\u001b[0m\u001b[1;33m[\u001b[0m\u001b[0mtrain_index\u001b[0m\u001b[1;33m]\u001b[0m\u001b[1;33m,\u001b[0m\u001b[0mdf_y_titanic\u001b[0m\u001b[1;33m[\u001b[0m\u001b[0mtest_index\u001b[0m\u001b[1;33m]\u001b[0m\u001b[1;33m\u001b[0m\u001b[1;33m\u001b[0m\u001b[0m\n\u001b[0;32m     35\u001b[0m     \u001b[0mdt_clf\u001b[0m\u001b[1;33m.\u001b[0m\u001b[0mfit\u001b[0m\u001b[1;33m(\u001b[0m\u001b[0mx_train\u001b[0m\u001b[1;33m,\u001b[0m\u001b[0my_train\u001b[0m\u001b[1;33m)\u001b[0m\u001b[1;33m\u001b[0m\u001b[1;33m\u001b[0m\u001b[0m\n",
      "\u001b[1;32mc:\\users\\sun\\venv\\ml\\lib\\site-packages\\pandas\\core\\frame.py\u001b[0m in \u001b[0;36m__getitem__\u001b[1;34m(self, key)\u001b[0m\n\u001b[0;32m   2932\u001b[0m                 \u001b[0mkey\u001b[0m \u001b[1;33m=\u001b[0m \u001b[0mlist\u001b[0m\u001b[1;33m(\u001b[0m\u001b[0mkey\u001b[0m\u001b[1;33m)\u001b[0m\u001b[1;33m\u001b[0m\u001b[1;33m\u001b[0m\u001b[0m\n\u001b[0;32m   2933\u001b[0m             indexer = self.loc._convert_to_indexer(key, axis=1,\n\u001b[1;32m-> 2934\u001b[1;33m                                                    raise_missing=True)\n\u001b[0m\u001b[0;32m   2935\u001b[0m \u001b[1;33m\u001b[0m\u001b[0m\n\u001b[0;32m   2936\u001b[0m         \u001b[1;31m# take() does not accept boolean indexers\u001b[0m\u001b[1;33m\u001b[0m\u001b[1;33m\u001b[0m\u001b[1;33m\u001b[0m\u001b[0m\n",
      "\u001b[1;32mc:\\users\\sun\\venv\\ml\\lib\\site-packages\\pandas\\core\\indexing.py\u001b[0m in \u001b[0;36m_convert_to_indexer\u001b[1;34m(self, obj, axis, is_setter, raise_missing)\u001b[0m\n\u001b[0;32m   1352\u001b[0m                 kwargs = {'raise_missing': True if is_setter else\n\u001b[0;32m   1353\u001b[0m                           raise_missing}\n\u001b[1;32m-> 1354\u001b[1;33m                 \u001b[1;32mreturn\u001b[0m \u001b[0mself\u001b[0m\u001b[1;33m.\u001b[0m\u001b[0m_get_listlike_indexer\u001b[0m\u001b[1;33m(\u001b[0m\u001b[0mobj\u001b[0m\u001b[1;33m,\u001b[0m \u001b[0maxis\u001b[0m\u001b[1;33m,\u001b[0m \u001b[1;33m**\u001b[0m\u001b[0mkwargs\u001b[0m\u001b[1;33m)\u001b[0m\u001b[1;33m[\u001b[0m\u001b[1;36m1\u001b[0m\u001b[1;33m]\u001b[0m\u001b[1;33m\u001b[0m\u001b[1;33m\u001b[0m\u001b[0m\n\u001b[0m\u001b[0;32m   1355\u001b[0m         \u001b[1;32melse\u001b[0m\u001b[1;33m:\u001b[0m\u001b[1;33m\u001b[0m\u001b[1;33m\u001b[0m\u001b[0m\n\u001b[0;32m   1356\u001b[0m             \u001b[1;32mtry\u001b[0m\u001b[1;33m:\u001b[0m\u001b[1;33m\u001b[0m\u001b[1;33m\u001b[0m\u001b[0m\n",
      "\u001b[1;32mc:\\users\\sun\\venv\\ml\\lib\\site-packages\\pandas\\core\\indexing.py\u001b[0m in \u001b[0;36m_get_listlike_indexer\u001b[1;34m(self, key, axis, raise_missing)\u001b[0m\n\u001b[0;32m   1159\u001b[0m         self._validate_read_indexer(keyarr, indexer,\n\u001b[0;32m   1160\u001b[0m                                     \u001b[0mo\u001b[0m\u001b[1;33m.\u001b[0m\u001b[0m_get_axis_number\u001b[0m\u001b[1;33m(\u001b[0m\u001b[0maxis\u001b[0m\u001b[1;33m)\u001b[0m\u001b[1;33m,\u001b[0m\u001b[1;33m\u001b[0m\u001b[1;33m\u001b[0m\u001b[0m\n\u001b[1;32m-> 1161\u001b[1;33m                                     raise_missing=raise_missing)\n\u001b[0m\u001b[0;32m   1162\u001b[0m         \u001b[1;32mreturn\u001b[0m \u001b[0mkeyarr\u001b[0m\u001b[1;33m,\u001b[0m \u001b[0mindexer\u001b[0m\u001b[1;33m\u001b[0m\u001b[1;33m\u001b[0m\u001b[0m\n\u001b[0;32m   1163\u001b[0m \u001b[1;33m\u001b[0m\u001b[0m\n",
      "\u001b[1;32mc:\\users\\sun\\venv\\ml\\lib\\site-packages\\pandas\\core\\indexing.py\u001b[0m in \u001b[0;36m_validate_read_indexer\u001b[1;34m(self, key, indexer, axis, raise_missing)\u001b[0m\n\u001b[0;32m   1244\u001b[0m                 raise KeyError(\n\u001b[0;32m   1245\u001b[0m                     u\"None of [{key}] are in the [{axis}]\".format(\n\u001b[1;32m-> 1246\u001b[1;33m                         key=key, axis=self.obj._get_axis_name(axis)))\n\u001b[0m\u001b[0;32m   1247\u001b[0m \u001b[1;33m\u001b[0m\u001b[0m\n\u001b[0;32m   1248\u001b[0m             \u001b[1;31m# We (temporarily) allow for some missing keys with .loc, except in\u001b[0m\u001b[1;33m\u001b[0m\u001b[1;33m\u001b[0m\u001b[1;33m\u001b[0m\u001b[0m\n",
      "\u001b[1;31mKeyError\u001b[0m: \"None of [Int64Index([ 82,  84,  85,  88,  94,  95,  96,  97,  98,  99,\\n            ...\\n            881, 882, 883, 884, 885, 886, 887, 888, 889, 890],\\n           dtype='int64', length=801)] are in the [columns]\""
     ]
    }
   ],
   "source": [
    "#stratifiedKFold\n",
    "from sklearn.model_selection import StratifiedKFold\n",
    "from sklearn.model_selection import train_test_split\n",
    "from sklearn.tree import DecisionTreeClassifier\n",
    "from sklearn.metrics import accuracy_score\n",
    "from sklearn.preprocessing import LabelEncoder\n",
    "import pandas as pd\n",
    "\n",
    "df_titanic=pd.read_csv('train.csv')\n",
    "\n",
    "df_y_titanic=df_titanic['Survived']\n",
    "df_x_titanic=df_titanic.drop('Survived',axis=1)\n",
    "df_x_titanic=transform_features(df_x_titanic)\n",
    "df_x_titanic=df_x_titanic.drop('Fare',axis=1)\n",
    "\n",
    "#Age_cat추가 및 labeling\n",
    "df_x_titanic['Age_cat'] = df_x_titanic['Age'].apply(lambda x : get_category(x))\n",
    "features=['Unknown','Baby','Child','Teenager','Student','Young Adult','Adult','Elderly']\n",
    "encoder=LabelEncoder()\n",
    "encoder.fit(df_x_titanic['Age_cat'])\n",
    "df_x_titanic['Age_cat']=encoder.transform(df_x_titanic['Age_cat'])\n",
    "\n",
    "\n",
    "\n",
    "dt_clf=DecisionTreeClassifier()\n",
    "skf=StratifiedKFold(n_splits=10)\n",
    "fold_index=0\n",
    "lst_accuracy=[]\n",
    "\n",
    "for train_index,test_index in skf.split(df_x_titanic,df_y_titanic):\n",
    "    fold_index+=1\n",
    "    \n",
    "    x_train,x_test=df_x_titanic[train_index],df_x_titanic[test_index]\n",
    "    y_train,y_test=df_y_titanic[train_index],df_y_titanic[test_index]\n",
    "    dt_clf.fit(x_train,y_train)\n",
    "    pred=dt_clf.predict(x_test)\n",
    "    \n",
    "    accuracy=np.round(accuracy_score(y_test,pred),4)\n",
    "    print('#{0} val accuracy:{1}'.format(fold_index,accuracy))\n",
    "    lst_accuracy.append(accuracy)\n",
    "print('### stratifiedKFold accuracy:',np.round(lst_accuracy,4))\n",
    "print('### avg stratifiedKFold accuracy:',np.mean(lst_accuracy))"
   ]
  },
  {
   "cell_type": "code",
   "execution_count": 125,
   "metadata": {
    "scrolled": false
   },
   "outputs": [
    {
     "name": "stdout",
     "output_type": "stream",
     "text": [
      "Optimal parameter: {'max_depth': 3, 'min_samples_split': 2}\n",
      "Max accuracy:0.7935\n",
      "Test dataset accuracy:0.8715\n"
     ]
    }
   ],
   "source": [
    "from sklearn.tree import DecisionTreeClassifier\n",
    "from sklearn.model_selection import train_test_split\n",
    "from sklearn.model_selection import GridSearchCV\n",
    "\n",
    "df_titanic=pd.read_csv('train.csv')\n",
    "df_y_titanic=df_titanic['Survived']\n",
    "df_x_titanic=df_titanic.drop('Survived',axis=1)\n",
    "df_x_titanic=transform_features(df_x_titanic)\n",
    "\n",
    "\n",
    "#Age_cat추가 및 labeling\n",
    "df_x_titanic['Age_cat'] = df_x_titanic['Age'].apply(lambda x : get_category(x))\n",
    "features=['Unknown','Baby','Child','Teenager','Student','Young Adult','Adult','Elderly']\n",
    "encoder=LabelEncoder()\n",
    "encoder.fit(df_x_titanic['Age_cat'])\n",
    "df_x_titanic['Age_cat']=encoder.transform(df_x_titanic['Age_cat'])\n",
    "x_train,x_test,y_train,y_test=train_test_split(df_x_titanic,df_y_titanic,test_size=0.2,random_state=11)\n",
    "dtree=DecisionTreeClassifier()\n",
    "parameters={'max_depth':[1,2,3],'min_samples_split':[2,3]}\n",
    "\n",
    "import pandas as pd\n",
    "grid_dtree=GridSearchCV(dtree,param_grid=parameters,cv=3,refit=True)\n",
    "grid_dtree.fit(x_train,y_train)\n",
    "scores_df=pd.DataFrame(grid_dtree.cv_results_)\n",
    "scores_df[['params','mean_test_score','rank_test_score','split0_test_score','split1_test_score','split2_test_score']]\n",
    "\n",
    "print('Optimal parameter:',grid_dtree.best_params_)\n",
    "print('Max accuracy:{0:.4f}'.format(grid_dtree.best_score_))\n",
    "\n",
    "estimator=grid_dtree.best_estimator_\n",
    "pred=estimator.predict(x_test)\n",
    "print('Test dataset accuracy:{0:.4f}'.format(accuracy_score(y_test,pred)))"
   ]
  },
  {
   "cell_type": "code",
   "execution_count": 127,
   "metadata": {},
   "outputs": [],
   "source": [
    "from sklearn.metrics import accuracy_score,precision_score,recall_score,confusion_matrix\n",
    "def get_clf_eval(y_test,pred):\n",
    "    confusion=confusion_matrix(y_test,pred)\n",
    "    accuracy=accuracy_score(y_test,pred)\n",
    "    precision=precision_score(y_test,pred)\n",
    "    recall=recall_score(y_test,pred)\n",
    "    \n",
    "    print('Confusion Matrixs')\n",
    "    print(confusion)\n",
    "    print('Accuracy:{0:.4f},Precision{1:.4f},Recall:{2:.4f}'.format(accuracy,precision,recall))"
   ]
  },
  {
   "cell_type": "code",
   "execution_count": 128,
   "metadata": {
    "scrolled": true
   },
   "outputs": [
    {
     "name": "stdout",
     "output_type": "stream",
     "text": [
      "Confusion Matrixs\n",
      "[[108  10]\n",
      " [ 14  47]]\n",
      "Accuracy:0.8659,Precision0.8246,Recall:0.7705\n"
     ]
    },
    {
     "name": "stderr",
     "output_type": "stream",
     "text": [
      "c:\\users\\sun\\venv\\ml\\lib\\site-packages\\sklearn\\linear_model\\logistic.py:432: FutureWarning: Default solver will be changed to 'lbfgs' in 0.22. Specify a solver to silence this warning.\n",
      "  FutureWarning)\n"
     ]
    }
   ],
   "source": [
    "import numpy as np\n",
    "import pandas as pd\n",
    "\n",
    "from sklearn.model_selection import train_test_split\n",
    "from sklearn.linear_model import LogisticRegression\n",
    "\n",
    "df_titanic=pd.read_csv('train.csv')\n",
    "df_y_titanic=df_titanic['Survived']\n",
    "df_x_titanic=df_titanic.drop('Survived',axis=1)\n",
    "df_x_titanic=transform_features(df_x_titanic)\n",
    "\n",
    "x_train,x_test,y_train,y_test=train_test_split(df_x_titanic,df_y_titanic,test_size=0.2,random_state=11)\n",
    "lr_clf=LogisticRegression()\n",
    "\n",
    "lr_clf.fit(x_train,y_train)\n",
    "pred= lr_clf.predict(x_test)\n",
    "get_clf_eval(y_test,pred)\n"
   ]
  },
  {
   "cell_type": "code",
   "execution_count": 2,
   "metadata": {},
   "outputs": [],
   "source": [
    "# 신용카드 사기 검출 모델 학습\n",
    "import pandas as pd\n",
    "import seaborn as sns\n",
    "import time\n",
    "from sklearn.model_selection import train_test_split\n",
    "from sklearn.metrics import accuracy_score\n",
    "from sklearn.tree import DecisionTreeClassifier\n",
    "from sklearn.model_selection import GridSearchCV\n",
    "from sklearn.ensemble import GradientBoostingClassifier\n",
    "from imblearn.over_sampling import SMOTE\n",
    "\n",
    "#데이터 로드\n",
    "card=pd.read_csv('train.csv')\n",
    "card_data=card.drop(['Time','Class'],axis=1)\n",
    "#praud=card_data[card_data['Class']==1]\n",
    "#praud=praud\n",
    "#card_data=card.drop(['Clasee'],axis=1)\n",
    "card_target=card['Class']\n",
    "card_df=pd.DataFrame(card_data,card_target)\n",
    "\n",
    "#oversampling\n",
    "sm = SMOTE(ratio=0.2,kind='regular',n_jobs=-1)\n",
    "card_data,card_target=sm.fit_sample(card_data,card_target)\n",
    "\n",
    "#test/train set 분리\n",
    "x_train,x_test,y_train,y_test=train_test_split(card_data,card_target,test_size=0.2,random_state=7,stratify=card_target)\n",
    "\n",
    "\n",
    "#confusion matrix,precision,recall,accuracy 확인 함수\n",
    "from sklearn.metrics import accuracy_score,precision_score,recall_score,confusion_matrix\n",
    "def get_clf_eval(y_test,pred):\n",
    "    confusion=confusion_matrix(y_test,pred)\n",
    "    accuracy=accuracy_score(y_test,pred)\n",
    "    precision=precision_score(y_test,pred)\n",
    "    recall=recall_score(y_test,pred)\n",
    "    \n",
    "    print('Confusion Matrixs')\n",
    "    print(confusion)\n",
    "    print('Accuracy:{0:.4f},Precision{1:.4f},Recall:{2:.4f}'.format(accuracy,precision,recall))\n"
   ]
  },
  {
   "cell_type": "code",
   "execution_count": 11,
   "metadata": {},
   "outputs": [],
   "source": [
    "import pandas as pd\n",
    "import seaborn as sns\n",
    "import time\n",
    "from sklearn.model_selection import train_test_split\n",
    "from sklearn.metrics import accuracy_score\n",
    "from sklearn.tree import DecisionTreeClassifier\n",
    "from sklearn.model_selection import GridSearchCV\n",
    "from sklearn.ensemble import GradientBoostingClassifier\n",
    "from imblearn.over_sampling import SMOTE\n",
    "\n",
    "#데이터 로드\n",
    "card=pd.read_csv('train.csv')\n",
    "card_data=card.drop(['Time','Class'],axis=1)\n",
    "#praud=card_data[card_data['Class']==1]\n",
    "#praud=praud\n",
    "#card_data=card.drop(['Clasee'],axis=1)\n",
    "card_target=card['Class']\n",
    "card_df=pd.DataFrame(card_data,card_target)\n",
    "\n",
    "#oversampling\n",
    "sm = SMOTE(ratio=0.2,kind='regular',n_jobs=-1)\n",
    "card_data,card_target=sm.fit_sample(card_data,card_target)"
   ]
  },
  {
   "cell_type": "code",
   "execution_count": 4,
   "metadata": {},
   "outputs": [
    {
     "name": "stdout",
     "output_type": "stream",
     "text": [
      "Collecting SMOTE\n",
      "  Downloading https://files.pythonhosted.org/packages/da/44/1341580b0f592a985a95c7662cb70104cc9d1c338c64195f4da4f1bb2202/smote-0.1-py2.py3-none-any.whl\n",
      "Requirement already satisfied: numpy>=1.14.3 in c:\\users\\sun\\venv\\ml\\lib\\site-packages (from SMOTE) (1.16.4)\n",
      "Requirement already satisfied: scikit-learn>=0.19.1 in c:\\users\\sun\\venv\\ml\\lib\\site-packages (from SMOTE) (0.21.2)\n",
      "Requirement already satisfied: joblib>=0.11 in c:\\users\\sun\\venv\\ml\\lib\\site-packages (from scikit-learn>=0.19.1->SMOTE) (0.13.2)\n",
      "Requirement already satisfied: scipy>=0.17.0 in c:\\users\\sun\\venv\\ml\\lib\\site-packages (from scikit-learn>=0.19.1->SMOTE) (1.3.0)\n",
      "Installing collected packages: SMOTE\n",
      "Successfully installed SMOTE-0.1\n"
     ]
    }
   ],
   "source": [
    "!python -m pip install SMOTE"
   ]
  },
  {
   "cell_type": "code",
   "execution_count": 10,
   "metadata": {},
   "outputs": [
    {
     "name": "stdout",
     "output_type": "stream",
     "text": [
      "SMOTE(k_neighbors=5, kind='regular', m_neighbors='deprecated', n_jobs=-1,\n",
      "      out_step='deprecated', random_state=None, ratio=0.2,\n",
      "      sampling_strategy='auto', svm_estimator='deprecated')\n"
     ]
    }
   ],
   "source": [
    "from imblearn.over_sampling import SMOTE\n",
    "sm = SMOTE(ratio=0.2,kind='regular',n_jobs=-1)\n",
    "print(sm)"
   ]
  },
  {
   "cell_type": "code",
   "execution_count": 7,
   "metadata": {},
   "outputs": [
    {
     "name": "stdout",
     "output_type": "stream",
     "text": [
      "Collecting imblearn\n",
      "  Downloading https://files.pythonhosted.org/packages/81/a7/4179e6ebfd654bd0eac0b9c06125b8b4c96a9d0a8ff9e9507eb2a26d2d7e/imblearn-0.0-py2.py3-none-any.whl\n",
      "Collecting imbalanced-learn (from imblearn)\n",
      "  Downloading https://files.pythonhosted.org/packages/e6/62/08c14224a7e242df2cef7b312d2ef821c3931ec9b015ff93bb52ec8a10a3/imbalanced_learn-0.5.0-py3-none-any.whl (173kB)\n",
      "Requirement already satisfied: scipy>=0.17 in c:\\users\\sun\\venv\\ml\\lib\\site-packages (from imbalanced-learn->imblearn) (1.3.0)\n",
      "Requirement already satisfied: numpy>=1.11 in c:\\users\\sun\\venv\\ml\\lib\\site-packages (from imbalanced-learn->imblearn) (1.16.4)\n",
      "Requirement already satisfied: joblib>=0.11 in c:\\users\\sun\\venv\\ml\\lib\\site-packages (from imbalanced-learn->imblearn) (0.13.2)\n",
      "Requirement already satisfied: scikit-learn>=0.21 in c:\\users\\sun\\venv\\ml\\lib\\site-packages (from imbalanced-learn->imblearn) (0.21.2)\n",
      "Installing collected packages: imbalanced-learn, imblearn\n",
      "Successfully installed imbalanced-learn-0.5.0 imblearn-0.0\n"
     ]
    }
   ],
   "source": [
    "!python -m pip install imblearn"
   ]
  },
  {
   "cell_type": "code",
   "execution_count": null,
   "metadata": {},
   "outputs": [],
   "source": []
  }
 ],
 "metadata": {
  "kernelspec": {
   "display_name": "Python 3",
   "language": "python",
   "name": "python3"
  },
  "language_info": {
   "codemirror_mode": {
    "name": "ipython",
    "version": 3
   },
   "file_extension": ".py",
   "mimetype": "text/x-python",
   "name": "python",
   "nbconvert_exporter": "python",
   "pygments_lexer": "ipython3",
   "version": "3.7.3"
  }
 },
 "nbformat": 4,
 "nbformat_minor": 2
}
